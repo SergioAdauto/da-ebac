{
 "cells": [
  {
   "cell_type": "code",
   "execution_count": 1,
   "id": "a105e213",
   "metadata": {},
   "outputs": [],
   "source": [
    "#Biblioteas necessárias:\n",
    "\n",
    "import pandas as pd\n",
    "import numpy as np\n",
    "#import re\n",
    "import requests\n",
    "from requests.exceptions import HTTPError\n",
    "from bs4 import BeautifulSoup\n"
   ]
  },
  {
   "cell_type": "code",
   "execution_count": 2,
   "id": "e0c8e30f",
   "metadata": {},
   "outputs": [],
   "source": [
    "URL = 'https://valorinveste.globo.com/cotacoes/'\n",
    "# my user agent:\n",
    "my_user_agents = {'User-Agent':'Mozilla/5.0 (Windows NT 10.0; Win64; x64) AppleWebKit/537.36 (KHTML, like Gecko) Chrome/105.0.0.0 Safari/537.36'}\n",
    "\n",
    "# Requisição da página:\n",
    "try:\n",
    "  site = requests.get(URL, headers=my_user_agents)\n",
    "  site.raise_for_status()\n",
    "except HTTPError as erro:\n",
    "  print(erro)#caso apresente algum erro\n",
    "else:\n",
    "  site = site.text"
   ]
  },
  {
   "cell_type": "code",
   "execution_count": 3,
   "id": "a60c45f3",
   "metadata": {},
   "outputs": [],
   "source": [
    "# Leitura da página:\n",
    "pagina = BeautifulSoup(site, 'html.parser')\n",
    "conteudo = pagina.find_all('div', attrs={'class':'vd-automatic-tables__section__content vd-automatic-tables__section__content__col-0'})"
   ]
  },
  {
   "cell_type": "code",
   "execution_count": 4,
   "id": "c7967c75",
   "metadata": {},
   "outputs": [
    {
     "name": "stdout",
     "output_type": "stream",
     "text": [
      "Extração concluída !!!\n"
     ]
    }
   ],
   "source": [
    "#Extração dos dados:\n",
    "try:\n",
    "    titulos = list() #Lista para guardar o nome das colunas\n",
    "    conteudos = list()#lista para guardar os dados\n",
    "\n",
    "    for tabela in pagina.find_all('div',{'class':'vd-table__content__overflow'}):\n",
    "        #Lista temporárias:\n",
    "        temp_titulo = list()\n",
    "        temp_conteudo = list()\n",
    "\n",
    "        #coletando as informações dos cabeçalhos das colunas:\n",
    "        header = tabela.find('thead', {'class':'vd-table__head'})\n",
    "        #Seprando as informações do HTML das strings:\n",
    "        header = header.get_text().strip().split('  ')\n",
    "        #Adicionando as informações a lista temporaria:\n",
    "        temp_titulo.append(header)\n",
    "\n",
    "        #Coletando o conteúdo das tabelas:\n",
    "        body = tabela.find('tbody', {'class':'vd-table__body'})\n",
    "        #loop para coletar as informações das linhas contidas na tag <tr>:\n",
    "        for x in body.find_all('tr'):\n",
    "            #Seprando as informações do HTML das strings:\n",
    "            valores = x.get_text().strip().split('  ')\n",
    "            #Adicionando as informações a lista temporaria:\n",
    "            temp_conteudo.append(valores)\n",
    "\n",
    "        #Adicionando as informações as listas permanentes:\n",
    "        titulos.append(temp_titulo)\n",
    "        conteudos.append(temp_conteudo)\n",
    "except Exception as erro:\n",
    "    print(erro)\n",
    "else:\n",
    "    print('Extração concluída !!!')\n",
    "\n",
    "    "
   ]
  },
  {
   "cell_type": "code",
   "execution_count": 5,
   "id": "bc5bc136",
   "metadata": {},
   "outputs": [],
   "source": [
    "#Crianção dos DataFrames para transformação dos dados:\n",
    "df_share = pd.DataFrame(data=conteudos[0], columns=[x.strip() for x in titulos[0][0]])\n",
    "\n",
    "df_BDR = pd.DataFrame(data=conteudos[1], columns=[x.strip() for x in titulos[1][0]])\n",
    "\n",
    "\n",
    "df_FII = pd.DataFrame(data=conteudos[2], columns=[x.strip() for x in titulos[2][0]])\n",
    "\n"
   ]
  },
  {
   "cell_type": "code",
   "execution_count": 6,
   "id": "fa14eea1",
   "metadata": {},
   "outputs": [],
   "source": [
    "# Função para remover caracteres:\n",
    "def replace_column(df):\n",
    "      for column in df.columns:\n",
    "        #df[column] =  [re.sub(\"\\$|\\%\", \"\", str(x)).strip() for x in df[column]]\n",
    "        df[column] =  df[column].str.replace(',','.')\n",
    "        df[column] = df[column].str.replace(' %','')\n",
    "        df[column] = df[column].str.replace(' -', '0')\n",
    "\n",
    "        \n",
    "#função para converter as colunas para tipo float, ou string:            \n",
    "def format_column(df):\n",
    "    for column in df.columns:\n",
    "        try:\n",
    "            df[column] =  df[column].astype(np.float64)\n",
    "        except:\n",
    "            df[column] =  df[column].astype(object)\n",
    "        "
   ]
  },
  {
   "cell_type": "code",
   "execution_count": 7,
   "id": "04800397",
   "metadata": {},
   "outputs": [
    {
     "name": "stdout",
     "output_type": "stream",
     "text": [
      "Transformação concluída.\n"
     ]
    }
   ],
   "source": [
    "replace_column(df_share)\n",
    "replace_column(df_BDR)\n",
    "replace_column(df_FII)\n",
    "\n",
    "format_column(df_share)\n",
    "format_column(df_BDR)\n",
    "format_column(df_FII)\n",
    "\n",
    "print('Transformação concluída.')"
   ]
  },
  {
   "cell_type": "code",
   "execution_count": 8,
   "id": "ef75e5ea",
   "metadata": {},
   "outputs": [
    {
     "name": "stdout",
     "output_type": "stream",
     "text": [
      "Carregamento dos dados concluído.\n"
     ]
    }
   ],
   "source": [
    "df_share.to_csv(path_or_buf='cotacao_acoes.csv',sep=';',index=False, encoding='latin-1')\n",
    "df_BDR.to_csv(path_or_buf='cotacao_bdr.csv',sep=';',index=False, encoding='latin-1')\n",
    "df_FII.to_csv(path_or_buf='cotacao_fii.csv',sep=';',index=False, encoding='latin-1')\n",
    "\n",
    "print('Carregamento dos dados concluído.')"
   ]
  }
 ],
 "metadata": {
  "kernelspec": {
   "display_name": "Python 3.10.4 64-bit",
   "language": "python",
   "name": "python3"
  },
  "language_info": {
   "codemirror_mode": {
    "name": "ipython",
    "version": 3
   },
   "file_extension": ".py",
   "mimetype": "text/x-python",
   "name": "python",
   "nbconvert_exporter": "python",
   "pygments_lexer": "ipython3",
   "version": "3.10.4"
  },
  "vscode": {
   "interpreter": {
    "hash": "0a855e0798565613629ea6aeaedacd216294da74377df975d61f1b4e8b3b3cf0"
   }
  }
 },
 "nbformat": 4,
 "nbformat_minor": 5
}
