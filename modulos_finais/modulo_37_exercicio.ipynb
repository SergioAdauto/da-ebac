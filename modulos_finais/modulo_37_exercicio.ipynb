{
  "nbformat": 4,
  "nbformat_minor": 0,
  "metadata": {
    "colab": {
      "provenance": [],
      "toc_visible": true
    },
    "kernelspec": {
      "name": "python3",
      "display_name": "Python 3"
    }
  },
  "cells": [
    {
      "cell_type": "markdown",
      "metadata": {
        "id": "KJqp9AANOCtf"
      },
      "source": [
        "<img src=\"https://raw.githubusercontent.com/andre-marcos-perez/ebac-course-utils/main/media/logo/newebac_logo_black_half.png\" alt=\"ebac-logo\">\n",
        "\n",
        "---\n",
        "\n",
        "# **Módulo** | Análise de Dados: COVID-19 Dashboard\n",
        "Caderno de **Exercícios**<br> \n",
        "Professor [André Perez](https://www.linkedin.com/in/andremarcosperez/)\n",
        "\n",
        "---"
      ]
    },
    {
      "cell_type": "markdown",
      "metadata": {
        "id": "d9jDtUbDOE1-"
      },
      "source": [
        "# **Tópicos**\n",
        "\n",
        "<ol type=\"1\">\n",
        "  <li>Introdução;</li>\n",
        "  <li>Análise Exploratória de Dados;</li>\n",
        "  <li>Visualização Interativa de Dados;</li>\n",
        "  <li>Storytelling.</li>\n",
        "</ol>\n"
      ]
    },
    {
      "cell_type": "markdown",
      "metadata": {
        "id": "SmoHgt-lwkpD"
      },
      "source": [
        "---"
      ]
    },
    {
      "cell_type": "markdown",
      "metadata": {
        "id": "GABI6OW8OfQ2"
      },
      "source": [
        "# **Exercícios**"
      ]
    },
    {
      "cell_type": "markdown",
      "metadata": {
        "id": "muD1vxozykSC"
      },
      "source": [
        "Este *notebook* deve servir como um guia para **você continuar** a construção da sua própria análise exploratória de dados interativa. Fique a vontate para copiar os códigos da aula mas busque explorar os dados ao máximo. Por fim, publique seu *notebook* no [Kaggle](https://www.kaggle.com/code/sergioadauto/da-covid-brazil/edit) e seu *dashboard* [Google Data Studio](https://datastudio.google.com/u/0/reporting/4bbdec07-ad4f-4347-824d-3fd0741f97d2/page/J9vAD)."
      ]
    },
    {
      "cell_type": "markdown",
      "metadata": {
        "id": "zMN1Q3jdwoJm"
      },
      "source": [
        "---"
      ]
    },
    {
      "cell_type": "markdown",
      "metadata": {
        "id": "QRcqbpLpFK5o"
      },
      "source": [
        "# **COVID Dashboard**"
      ]
    },
    {
      "cell_type": "markdown",
      "metadata": {
        "id": "6-CvdKwqFPiW"
      },
      "source": [
        "## 1\\. Contexto"
      ]
    },
    {
      "cell_type": "markdown",
      "metadata": {
        "id": "XRURE1uUFXGw"
      },
      "source": [
        "\n",
        "<p style=\"text-align:justify\"> Conforme o <a href=\"https://www.gov.br/saude/pt-br/coronavirus/o-que-e-o-coronavirus\">Ministério da Saúde</a>, a Covid-19 é uma doença infecto respiratória causada pelo vírus da SARS-CoV-2, que apresenta elevado potencial de transmissibilidade de impacto global. Que afetou o mundo todo, e gerou mudanças de comportamento a respeito da precaução/proteção de doenças infectocontagiosas.</p>\n",
        "<p style=\"text-align:justify\">Por esse motivo, o estudo dos dados de transmissão e evolução dos casos em uma região, é fundamental para garantir o combate e controle da doença. Essa projeto visa construir um dashboard de visualização interativa, a respeito dos dados de vacinação e casos de Covid-19 no Brasil. Para esses dados serem consumidos, será utilizado o método de ETL (Extração - Transformação - Carregamento), e depois visualizados na plataforma Google Data Studio.</p>\n",
        "<p style=\"text-align:justify\">Para fazer isso, serão utilizadas duas bases de dados, a primeira vai conter informações sobre os casos da COVID-19, e a segunda informações de registro das vacinações. A primeira base (Casos de Covid-19), trata-se de um compilado de informações coletadas diariamente desde janeiro de 2020 pelo centro de ciência e engenharia da universidade <a href=\"https://www.jhu.edu/\">John Hopkins</a>, que apresenta descrições geográficas de regiões de países (como estados, condados, províncias, etc.), além disso, seus dados podem ser consultados em seu <a href=\"https://systems.jhu.edu/research/public-health/ncov/\">portal</a>, ou <a href=\"https://github.com/CSSEGISandData/COVID-19/tree/master/csse_covid_19_data/csse_covid_19_daily_reports\">repositório</a> público. A segunda base de dados (Registro de Vacinação), refere-se a um compilado desenvolvido pelo projeto Nosso Mundo em Dados da universidade de <a href=\"https://www.ox.ac.uk/\">Oxford</a>, que iniciou em janeiro de 2020, sendo atualizado diariamente com características geográficas de países, os dados podem ser acessados pelo <a href=\"https://ourworldindata.org\">portal - Our World in Data</a>, ou através desse <a href=\"https://covid.ourworldindata.org/data/owid-covid-data.csv\">link</a>.</p>\n",
        "\n",
        "<h3>Descrição dos dados:</h3>\n",
        "<p><strong>Caso de COVID-19:</strong></p>\n",
        "    <ul>\n",
        "         <li><em>date</em> = data de referência;\n",
        "         <li><em>state</em> = estado;\n",
        "         <li><em>country</em>: país; \n",
        "         <li><em>population</em> = população estimada;\n",
        "         <li><em>confirmed</em> = número acumulado de infectados;\n",
        "         <li><em>confirmed_1d</em> = número diário de infectados;\n",
        "         <li><em>confirmed_moving_avg_7d</em> = média móvel de 7 dias do número diário de infectados;\n",
        "         <li><em>confirmed_moving_avg_7d_rate_14d</em> = média móvel de 7 dias dividido pela média móvel de 7 dias de 14 dias atrás;\n",
        "         <li><em>deaths</em> = número acumulado de mortos;\n",
        "         <li><em>deaths_1d</em> = número diário de mortos;\n",
        "         <li><em>deaths_moving_avg_7d</em> = média móvel de 7 dias do número diário de mortos;\n",
        "         <li><em>deaths_moving_avg_7d</em> = média móvel de 7 dias dividido pela média móvel de 7 dias de 14 dias atrás;\n",
        "         <li><em>month</em> = mês de referência;\n",
        "         <li><em>year</em> = ano de referência.\n",
        "    </ul>\n",
        "<p><strong>Registros de Vacinação da COVID-19:</strong></p>\n",
        "    <ul>\n",
        "        <li><em>date</em> = data de referência;\n",
        "        <li><em>country</em> = país;\n",
        "        <li><em>population</em> = população estimada;\n",
        "        <li><em>total</em> = número acumulado de doses administradas;\n",
        "        <li><em>one_shot</em> = número acumulado de pessoas com uma dose;\n",
        "        <li><em>one_shot_perc</em> = número acumulado relativo de pessoas com uma dose;\n",
        "        <li><em>two_shots</em> = número acumulado de pessoas com duas doses;\n",
        "        <li><em>two_shot_perc</em> = número acumulado relativo de pessoas com duas doses;\n",
        "        <li><em>three_shots</em> = número acumulado de pessoas com três doses;\n",
        "        <li><em>three_shot_perc</em> = número acumulado relativo de pessoas com três doses;\n",
        "        <li><em>month</em> = mês de referência;\n",
        "        <li><em>year</em> = ano de referência.\n",
        "    </ul>\n",
        "\n",
        "\n"
      ]
    },
    {
      "cell_type": "markdown",
      "metadata": {
        "id": "QxukLHaqFnkU"
      },
      "source": [
        "## 2\\. Pacotes e bibliotecas"
      ]
    },
    {
      "cell_type": "code",
      "metadata": {
        "id": "VXUEW0VrF7XW"
      },
      "source": [
        "# importe todas as suas bibliotecas aqui, siga os padrões do PEP8:\n",
        "#\n",
        "# - 1º pacotes nativos do python: json, os, etc.;\n",
        "# - 2º pacotes de terceiros: pandas, seabornm etc.;\n",
        "# - 3º pacotes que você desenvolveu.\n",
        "#\n",
        "\n",
        "from typing import Iterator\n",
        "from datetime import datetime, timedelta\n",
        "\n",
        "import numpy as np\n",
        "import pandas as pd"
      ],
      "execution_count": null,
      "outputs": []
    },
    {
      "cell_type": "markdown",
      "metadata": {
        "id": "irQxHW1zGkdZ"
      },
      "source": [
        "## 3\\. Extração"
      ]
    },
    {
      "cell_type": "markdown",
      "source": [
        "<p>Antes de começar extrair os dados, será preciso definir um intervalo de tempo para trabalhar com as duas bases de dados (<em>Casos de Covid-19</em> e <em>Registro de Vacinação</em>). Minha ideia é utilizar as informações referente aos anos de 2021 e 2022, mas para isso, preciso identificar um intervalo máximo de tempo, que seja equivalente para trabalhar nas duas bases.</p>\n",
        "<p>Com base nas informações presente no <a href=\"https://github.com/CSSEGISandData/COVID-19/tree/master/csse_covid_19_data/csse_covid_19_daily_reports\">repositório</a> de casos de covid-19, a informação de registro mais recente disponível no momento é de <code>05-12-2022</code>. Diante dessa informação, vou utilizar-lá como parâmetro máximo para intervalo de tempo a ser trabalhado com as duas bases de dados.</p>\n",
        "<details>\n",
        "    <summary>Click aqui para visualizar o print do repositório</summary>\n",
        "<img src=\"https://github.com/SergioAdauto/da-covid-brazil/blob/main/image/print.png?raw=true\" width=\"80%\">\n",
        "</details>"
      ],
      "metadata": {
        "id": "IyjhLMr7moCJ"
      }
    },
    {
      "cell_type": "code",
      "metadata": {
        "id": "lxLj8e0GHAnr"
      },
      "source": [
        "# faça o código de extração dos dados:\n",
        "#\n",
        "# - coleta de dados;\n",
        "# - wrangling da estrutura;\n",
        "# - exploração do schema;\n",
        "# - etc.\n",
        "\n",
        "# Função responsável por definir um intervalo de tempo:\n",
        "def intervalo_tempo(data_inicio: datetime, data_fim: datetime) -> Iterator[datetime]:\n",
        "  intervalo_tempo_dias: int = (data_fim - data_inicio).days\n",
        "  for data in range(intervalo_tempo_dias):\n",
        "    yield data_inicio + timedelta(data)\n",
        "\n",
        "\n",
        "# Definindo o intervalo de tempo:\n",
        "data_inicio = datetime(2021,  1,  1)\n",
        "data_fim = datetime(2022,  12,  5)\n",
        "\n",
        "#Variável para registrar o Dataframe de casos de covid-19:\n",
        "df_casos = None\n",
        "\n",
        "casos_vazio = True # Variável responsável por validar se o dataframe está concluido.\n",
        "\n",
        "#Loop para extrair os dados dados do repositório e selecionar as colunas desejadas:\n",
        "for data in intervalo_tempo(data_inicio, data_fim):\n",
        "    # Variável responsável por consultar a data desejada no repositório:  \n",
        "    data_consulta = data.strftime('%m-%d-%Y')\n",
        "    # link do repositório:\n",
        "    url = f'https://raw.githubusercontent.com/CSSEGISandData/COVID-19/master/csse_covid_19_data/csse_covid_19_daily_reports/{data_consulta}.csv'\n",
        "    # Carregando os dados de casos do dia em um dataframe:\n",
        "    caso = pd.read_csv(filepath_or_buffer=url, sep=',')\n",
        "    # Apagando as colunas que não serão utilizadas:\n",
        "    caso = caso.drop(['FIPS', 'Admin2', 'Last_Update', 'Lat', 'Long_', 'Recovered', 'Active', 'Combined_Key', 'Case_Fatality_Ratio'], axis=1)\n",
        "    # Selecionando as informações do Brasil:\n",
        "    caso = caso.query('Country_Region == \"Brazil\"').reset_index(drop=True)\n",
        "    # Convertendo a coluna 'Date' para o formato de data:\n",
        "    caso['Date'] = pd.to_datetime(data.strftime('%Y-%m-%d'))\n",
        "    #Verificando se o dataframe está completo: \n",
        "    if casos_vazio:\n",
        "        df_casos = caso\n",
        "        casos_vazio = False\n",
        "    else:\n",
        "        df_casos = df_casos.append(caso, ignore_index=True)\n",
        "\n",
        "#Carregando o DataFrame do Registro de vacinação:\n",
        "df_vacinacao = pd.read_csv('https://covid.ourworldindata.org/data/owid-covid-data.csv', sep=',', parse_dates=[3], infer_datetime_format=True)\n",
        "\n"
      ],
      "execution_count": null,
      "outputs": []
    },
    {
      "cell_type": "markdown",
      "metadata": {
        "id": "98hexQTyJS9I"
      },
      "source": [
        "## 4\\. Transformação"
      ]
    },
    {
      "cell_type": "code",
      "metadata": {
        "id": "DXU4Ee0QJS9Q"
      },
      "source": [
        "# faça o código de manipulação dos dados:\n",
        "#\n",
        "# - enriquecimento;\n",
        "# - controle de qualidade;\n",
        "# - etc.\n",
        "\n",
        "# Renomeando as colunas \"Province_State\" e \"Country_Region\" para\n",
        "# facilitar sua compreensão:\n",
        "df_casos = df_casos.rename(\n",
        "  columns={\n",
        "    'Province_State': 'state',\n",
        "    'Country_Region': 'country'\n",
        "  }\n",
        ")\n",
        "\n",
        "# Deixando colunas em minúscula:\n",
        "for column in df_casos.columns:\n",
        "  df_casos.rename(columns={column: column.lower()}, inplace=True)\n",
        "\n",
        "# Verificando o nome dos estados:\n",
        "df_casos.state.unique()\n",
        "\n",
        "\n",
        "# OBS: Como alguns estados brasileiros estão com seu nome sem acentuação, será \n",
        "# preciso ajustar isso para facilitar a geolocalização do mesmo.\n",
        "# Dicionário com nome dos estados que possuem acentuação:\n",
        "estados = {\n",
        "    'Amapa': 'Amapá',\n",
        "    'Ceara': 'Ceará',\n",
        "    'Espirito Santo': 'Espírito Santo',\n",
        "    'Goias': 'Goiás',\n",
        "    'Para': 'Pará',\n",
        "    'Paraiba': 'Paraíba',\n",
        "    'Parana': 'Paraná',\n",
        "    'Piaui': 'Piauí',\n",
        "    'Rondonia': 'Rondônia',\n",
        "    'Sao Paulo': 'São Paulo'\n",
        "}\n",
        "# Ajustando nome de alguns estados brasileiros:\n",
        "df_casos['state'] = df_casos['state'].apply(lambda state: estados.get(state) if state in estados.keys() else state)\n",
        "\n",
        "# Criando coluna de Ano:\n",
        "df_casos['year']  = df_casos['date'].apply(lambda date: date.strftime('%Y'))\n",
        "\n",
        "# Criando coluna de Mês:\n",
        "df_casos['month'] = df_casos['date'].apply(lambda date: date.strftime('%Y-%m'))\n",
        "\n",
        "#Criando coluna da população estimada \n",
        "df_casos['population'] = round(100000 * (df_casos['confirmed'] / df_casos['incident_rate']))\n",
        "\n",
        "#Eliminando a coluna de taxa de incidentes:\n",
        "df_casos.drop('incident_rate', axis=1, inplace=True)\n",
        "\n",
        "\n",
        "\n",
        "#Variável para registrar os casos:\n",
        "casos = None\n",
        "# Para testar os casos vazio:\n",
        "casos_vazio = True\n",
        "\n",
        "#Função para verificar a tendência dos casos:\n",
        "def tendencia(taxa: float) -> str:\n",
        "    if np.isnan(taxa):\n",
        "        return np.NaN\n",
        "\n",
        "    if taxa < 0.75:\n",
        "        status = 'redução'\n",
        "    elif taxa > 1.15:\n",
        "        status = 'aumento'\n",
        "    else:\n",
        "        status = 'estável'\n",
        "\n",
        "    return status\n",
        "  \n",
        "# Loop para verificar os casos por estados brasileiro:\n",
        "for state in df_casos['state'].drop_duplicates():\n",
        "    casos_por_estado = df_casos.query(f'state == \"{state}\"').reset_index(drop=True)\n",
        "    casos_por_estado = casos_por_estado.sort_values(by=['date'])\n",
        "    # Casos confirmados:\n",
        "    casos_por_estado['confirmed_1d'] = casos_por_estado['confirmed'].diff(periods=1)\n",
        "    casos_por_estado['confirmed_moving_avg_7d'] = np.ceil(casos_por_estado['confirmed_1d'].rolling(window=7).mean())\n",
        "    casos_por_estado['confirmed_moving_avg_7d_rate_14d'] = casos_por_estado['confirmed_moving_avg_7d']/casos_por_estado['confirmed_moving_avg_7d'].shift(periods=14)\n",
        "    casos_por_estado['confirmed_trend'] = casos_por_estado['confirmed_moving_avg_7d_rate_14d'].apply(tendencia)\n",
        "    # Casos que registraram mortes:\n",
        "    casos_por_estado['deaths_1d'] = casos_por_estado['deaths'].diff(periods=1)\n",
        "    casos_por_estado['deaths_moving_avg_7d'] = np.ceil(casos_por_estado['deaths_1d'].rolling(window=7).mean())\n",
        "    casos_por_estado['deaths_moving_avg_7d_rate_14d'] = casos_por_estado['deaths_moving_avg_7d']/casos_por_estado['deaths_moving_avg_7d'].shift(periods=14)\n",
        "    casos_por_estado['deaths_trend'] = casos_por_estado['deaths_moving_avg_7d_rate_14d'].apply(tendencia)\n",
        "    \n",
        "    # Verificando se os casos por estado estão registrado como vazio:\n",
        "    if casos_vazio:\n",
        "        casos = casos_por_estado\n",
        "        casos_vazio = False\n",
        "    else:\n",
        "        casos = casos.append(casos_por_estado, ignore_index=True)\n",
        "# Salva as informações no DataFrame:\n",
        "df_casos = casos\n",
        "casos = None\n",
        "\n",
        "\n",
        "# Ajustando os tipos das colunas criadas:\n",
        "df_casos = df_casos.astype({'population':np.int64, 'confirmed_1d':np.int64, 'confirmed_moving_avg_7d':np.int64, 'deaths_1d':np.int64,'deaths_moving_avg_7d':np.int64}, errors='ignore')\n",
        "\n",
        "# Reorganizando as colunas:\n",
        "df_casos = df_casos[['date', 'country', 'state', 'population', 'confirmed', 'confirmed_1d', 'confirmed_moving_avg_7d', 'confirmed_moving_avg_7d_rate_14d', 'confirmed_trend', 'deaths', 'deaths_1d', 'deaths_moving_avg_7d', 'deaths_moving_avg_7d_rate_14d', 'deaths_trend', 'month', 'year']]\n",
        "\n",
        "\n",
        "\n",
        "\n",
        "# Transformação dos dados de vacinação:\n",
        "# Selecionando os elementos do Brasil:\n",
        "df_vacinacao = df_vacinacao.query('location == \"Brazil\" and date >= \"2021-01-01\" and date <= \"2022-12-04\"').reset_index(drop=True)\n",
        "\n",
        "# Selecionado as colunas do dataframe de vacinação:\n",
        "df_vacinacao = df_vacinacao[['location', 'population', 'total_vaccinations', 'people_vaccinated', 'people_fully_vaccinated', 'total_boosters', 'date']]\n",
        "\n",
        "# Verificando se existe elementos faltando:\n",
        "df_vacinacao.isna().sum()\n",
        "\n",
        "# Replicando os elementos faltantes com as informações da linha anterior:\n",
        "df_vacinacao = df_vacinacao.fillna(method='ffill')\n",
        "\n",
        "# Reorganizando o DataFrame de Vacinação:\n",
        "df_vacinacao.rename(columns={'location': 'country',\n",
        "                                            'total_vaccinations': \n",
        "                                            'total','people_vaccinated': 'one_shot',\n",
        "                                            'people_fully_vaccinated': 'two_shots',\n",
        "                                            'total_boosters': 'three_shots'}, inplace=True)\n",
        "\n",
        "\n",
        "# Criando uma coluna ano:\n",
        "df_vacinacao['year']  = df_vacinacao['date'].apply(lambda date: date.strftime('%Y'))\n",
        "\n",
        "#Criando coluna de mês:\n",
        "df_vacinacao['month'] = df_vacinacao['date'].apply(lambda date: date.strftime('%Y-%m'))\n",
        "\n",
        "#Montando as colunas de proporções de dose de vacinação (1ª, 2ª e 3ª dose):\n",
        "df_vacinacao['one_shot_perc'] = round(df_vacinacao['one_shot'] / df_vacinacao['population'], 4)\n",
        "df_vacinacao['two_shots_perc'] = round(df_vacinacao['two_shots'] / df_vacinacao['population'], 4)\n",
        "df_vacinacao['three_shots_perc'] = round(df_vacinacao['three_shots'] / df_vacinacao['population'], 4)\n",
        "\n",
        "#verificando o tipos dos dados:\n",
        "df_vacinacao.info()\n",
        "\n",
        "# Ajustando os tipos das colunas:\n",
        "df_vacinacao.astype({'population':np.int64, 'total':np.int64, 'one_shot':np.int64, 'two_shots':np.int64, 'three_shots':np.int64}, errors='ignore')\n",
        "\n",
        "#Organizando o DataFrame:\n",
        "df_vacinacao = df_vacinacao[['date', 'country', 'population', 'total', 'one_shot', 'one_shot_perc', 'two_shots', 'two_shots_perc', 'three_shots', 'three_shots_perc', 'month', 'year']]\n"
      ],
      "execution_count": null,
      "outputs": []
    },
    {
      "cell_type": "markdown",
      "metadata": {
        "id": "KSgjP--1JS9R"
      },
      "source": [
        "## 5\\. Carregamento"
      ]
    },
    {
      "cell_type": "code",
      "metadata": {
        "id": "Jlj3ACWCJS9R"
      },
      "source": [
        "# faça o código para persistência dos dados:\n",
        "#\n",
        "# - salve-os no formato csv sem índice;\n",
        "# - etc.\n",
        "\n",
        "\n",
        "# Após manipular todos os dados de casos de covid e vacinação, agora será persistido em disco os dois DataFrames, para assim serem utilizados no Google Data Studio.\n",
        "df_casos.to_csv('./covid-cases.csv', sep=',', index=False)\n",
        "df_vacinacao.to_csv('./covid-vaccines.csv', sep=',', index=False)"
      ],
      "execution_count": null,
      "outputs": []
    }
  ]
}