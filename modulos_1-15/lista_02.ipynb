{
  "cells": [
    {
      "cell_type": "markdown",
      "id": "2b5758e1",
      "metadata": {
        "id": "2b5758e1"
      },
      "source": [
        "Criei uma lista chamada filmes com o nome dos 10 primeiros filmes mais bem avaliados no\n",
        "site no IMDB. Imprima o resultado.\n"
      ]
    },
    {
      "cell_type": "code",
      "execution_count": 1,
      "id": "d1ea0e64",
      "metadata": {
        "colab": {
          "base_uri": "https://localhost:8080/"
        },
        "id": "d1ea0e64",
        "outputId": "2b016cf9-2f55-403c-fa33-5e18e804f911"
      },
      "outputs": [
        {
          "output_type": "stream",
          "name": "stdout",
          "text": [
            "['Um Sonho de Liberdade', 'O Poderoso Chefão', 'Batman: O Cavaleiro das Trevas', 'O Poderoso Chefão II', '12 Homens e uma Sentença', 'A Lista de Schindler', 'O Senhor dos Anéis: O Retorno do Rei', 'Pulp Fiction: Tempo de Violência', 'O Senhor dos Anéis: A Sociedade do Anel', 'Três Homens em Conflito']\n"
          ]
        }
      ],
      "source": [
        "#declarando lista\n",
        "filmes = [ 'Um Sonho de Liberdade', 'O Poderoso Chefão', 'Batman: O Cavaleiro das Trevas', 'O Poderoso Chefão II',\n",
        "         '12 Homens e uma Sentença', 'A Lista de Schindler', 'O Senhor dos Anéis: O Retorno do Rei',\n",
        "          'Pulp Fiction: Tempo de Violência', 'O Senhor dos Anéis: A Sociedade do Anel', 'Três Homens em Conflito' ]\n",
        "#imprimindo\n",
        "print(f'{filmes}')"
      ]
    },
    {
      "cell_type": "markdown",
      "id": "17bc779f",
      "metadata": {
        "id": "17bc779f"
      },
      "source": [
        "Simule a movimentação do ranking. Utilize os métodos insert e pop para trocar a posição\n",
        "do primeiro e do segundo filme da lista. Imprima o resultado."
      ]
    },
    {
      "cell_type": "code",
      "execution_count": 2,
      "id": "e1416f6e",
      "metadata": {
        "colab": {
          "base_uri": "https://localhost:8080/"
        },
        "id": "e1416f6e",
        "outputId": "20c0d3d8-a466-4ed1-e19e-02aae9749db2"
      },
      "outputs": [
        {
          "output_type": "stream",
          "name": "stdout",
          "text": [
            "['O Poderoso Chefão', 'Um Sonho de Liberdade', 'Batman: O Cavaleiro das Trevas', 'O Poderoso Chefão II', '12 Homens e uma Sentença', 'A Lista de Schindler', 'O Senhor dos Anéis: O Retorno do Rei', 'Pulp Fiction: Tempo de Violência', 'O Senhor dos Anéis: A Sociedade do Anel', 'Três Homens em Conflito']\n"
          ]
        }
      ],
      "source": [
        "#inserindo o segundo lugar no primeiro\n",
        "filmes.insert(0, 'O Poderoso Chefão')\n",
        "#removendo duplicado com o pop\n",
        "filmes.pop(2)\n",
        "print(f'{filmes}')"
      ]
    },
    {
      "cell_type": "markdown",
      "id": "c10d5a8a",
      "metadata": {
        "id": "c10d5a8a"
      },
      "source": [
        "Aconteceu um erro no seu ranking. Simule a duplicação dos três últimos filmes da lista.\n",
        "Imprima o resultado.\n"
      ]
    },
    {
      "cell_type": "code",
      "execution_count": 3,
      "id": "61c330b7",
      "metadata": {
        "colab": {
          "base_uri": "https://localhost:8080/"
        },
        "id": "61c330b7",
        "outputId": "15e5993a-9f77-43a8-e3c8-b1f9dffee480"
      },
      "outputs": [
        {
          "output_type": "stream",
          "name": "stdout",
          "text": [
            "['O Poderoso Chefão', 'Um Sonho de Liberdade', 'Batman: O Cavaleiro das Trevas', 'O Poderoso Chefão II', '12 Homens e uma Sentença', 'A Lista de Schindler', 'O Senhor dos Anéis: O Retorno do Rei', 'Pulp Fiction: Tempo de Violência', 'O Senhor dos Anéis: A Sociedade do Anel', 'Três Homens em Conflito', 'Pulp Fiction: Tempo de Violência', 'O Senhor dos Anéis: A Sociedade do Anel', 'Três Homens em Conflito']\n"
          ]
        }
      ],
      "source": [
        "filmes.append('Pulp Fiction: Tempo de Violência')\n",
        "filmes.append('O Senhor dos Anéis: A Sociedade do Anel')\n",
        "filmes.append('Três Homens em Conflito')\n",
        "print(f'{filmes}')"
      ]
    },
    {
      "cell_type": "markdown",
      "id": "954cb4e5",
      "metadata": {
        "id": "954cb4e5"
      },
      "source": [
        "Utiliza a conversão set e list para remover os valores duplicados. Imprima o resultado. In [ ]:\n"
      ]
    },
    {
      "cell_type": "code",
      "execution_count": 4,
      "id": "49cb0b4c",
      "metadata": {
        "colab": {
          "base_uri": "https://localhost:8080/"
        },
        "id": "49cb0b4c",
        "outputId": "fb63629b-9060-47cb-cd5d-d208c64306fb"
      },
      "outputs": [
        {
          "output_type": "stream",
          "name": "stdout",
          "text": [
            "['Batman: O Cavaleiro das Trevas', 'O Senhor dos Anéis: O Retorno do Rei', 'O Poderoso Chefão II', '12 Homens e uma Sentença', 'Três Homens em Conflito', 'Um Sonho de Liberdade', 'A Lista de Schindler', 'O Senhor dos Anéis: A Sociedade do Anel', 'Pulp Fiction: Tempo de Violência', 'O Poderoso Chefão']\n"
          ]
        }
      ],
      "source": [
        "#removendo duplicados com a conversão pro set\n",
        "filmes = set(filmes)\n",
        "filmes = list(filmes)\n",
        "print(f'{filmes}')"
      ]
    },
    {
      "cell_type": "markdown",
      "id": "6b91a4ef",
      "metadata": {
        "id": "6b91a4ef"
      },
      "source": [
        "Repita os exercícios da parte 1 (listas). Os elementos da lista filmes devem ser dicionários\n",
        "no seguinte formato: {'nome': <nome-do-filme>, 'ano': <ano do filme>},\n",
        "'sinopse': <sinopse do filme>} .\n"
      ]
    },
    {
      "cell_type": "code",
      "execution_count": 5,
      "id": "e4f2a437",
      "metadata": {
        "id": "e4f2a437"
      },
      "outputs": [],
      "source": [
        "Lista_Filmes = [ {'nome': 'Um Sonho de Liberdade ', \n",
        "            'ano': 1994,\n",
        "            'sinopse': 'Dois homens presos se reúnem ao longo de vários anos, encontrando consolo e eventual redenção através de atos de decência comum.'},\n",
        "         \n",
        "          {'nome': 'O Poderoso Chefão  ', \n",
        "            'ano': 1972,\n",
        "            'sinopse': 'O patriarca idoso de uma dinastia do crime organizado transfere o controle de seu império clandestino para seu filho relutante.'},\n",
        "         \n",
        "          {'nome': 'Batman: O Cavaleiro das Trevas ', \n",
        "            'ano': 2008,\n",
        "            'sinopse': 'Quando a ameaça conhecida como O Coringa surge de seu passado, causa estragos e caos nas pessoas de Gotham. O Cavaleiro das Trevas deve aceitar um dos maiores testes para combater a injustiça.'},\n",
        "        \n",
        "          {'nome': ' O Poderoso Chefão II ', \n",
        "            'ano': 1974,\n",
        "            'sinopse': 'Em 1950, Michael Corleone, agora à frente da família, tenta expandir o negócio do crime a Las Vegas, Los Angeles e Cuba. Paralelamente, é revelada a história de Vito Corleone, e de como saiu da Sicília e chegou a Nova Iorque.'},\n",
        "          \n",
        "          {'nome': '12 Homens e uma Sentença', \n",
        "            'ano': 1957,\n",
        "            'sinopse': 'Um jurado que se aposenta tenta evitar um erro judicial forçando seus colegas a reconsiderarem as evidências.'},\n",
        "          \n",
        "          {'nome': 'A Lista de Schindler ', \n",
        "            'ano': 1993,\n",
        "            'sinopse': 'Depois de testemunhar a perseguição dos judaicos na Polônia ocupada pelos alemães durante a Segunda Guerra Mundial, o industrial Oskar Schindler se começa a preocupar com sua força de trabalho judaica.'},\n",
        "          \n",
        "          {'nome': 'O Senhor dos Anéis: O Retorno do Rei', \n",
        "            'ano': 2003,\n",
        "            'sinopse': 'Gandalf e Aragorn lideram o Mundo dos Homens contra o exército de Sauron para desviar o olhar de Frodo e Sam quando eles se aproximam á Montanha da Perdição com o Um Anel.'},\n",
        "          \n",
        "          {'nome': 'Pulp Fiction: Tempo de Violência', \n",
        "            'ano': 1994,\n",
        "            'sinopse': 'As vidas de dois assassinos da máfia, um boxeador, um gângster e sua esposa, e um par de bandidos se entrelaçam em quatro histórias de violência e redenção.'},\n",
        "          \n",
        "          {'nome': 'O Senhor dos Anéis: A Sociedade do Anel', \n",
        "            'ano': 2001,\n",
        "            'sinopse': 'Um manso hobbit do Condado e oito companheiros partem em uma jornada para destruir o poderoso Um Anel e salvar a Terra-média das Trevas.'},\n",
        "          \n",
        "          {'nome': ' Três Homens em Conflito', \n",
        "            'ano': 1966,\n",
        "            'sinopse': 'Um impostor se junta com dois homens para encontrar fortuna num remoto cemitério.'}\n",
        "         ]\n",
        "          \n",
        "          \n",
        "          \n",
        "          \n",
        "          \n",
        "          \n",
        "          \n",
        "          \n",
        "          \n",
        "          \n",
        "          "
      ]
    },
    {
      "cell_type": "code",
      "execution_count": 6,
      "id": "4b4efa35",
      "metadata": {
        "colab": {
          "base_uri": "https://localhost:8080/"
        },
        "id": "4b4efa35",
        "outputId": "b650e286-57fe-4d9f-f0a0-7815cc590d6e"
      },
      "outputs": [
        {
          "output_type": "stream",
          "name": "stdout",
          "text": [
            "nome : Um Sonho de Liberdade \n",
            "ano : 1994\n",
            "sinopse : Dois homens presos se reúnem ao longo de vários anos, encontrando consolo e eventual redenção através de atos de decência comum.\n",
            "\n",
            "nome : O Poderoso Chefão  \n",
            "ano : 1972\n",
            "sinopse : O patriarca idoso de uma dinastia do crime organizado transfere o controle de seu império clandestino para seu filho relutante.\n",
            "\n",
            "nome : Batman: O Cavaleiro das Trevas \n",
            "ano : 2008\n",
            "sinopse : Quando a ameaça conhecida como O Coringa surge de seu passado, causa estragos e caos nas pessoas de Gotham. O Cavaleiro das Trevas deve aceitar um dos maiores testes para combater a injustiça.\n",
            "\n",
            "nome :  O Poderoso Chefão II \n",
            "ano : 1974\n",
            "sinopse : Em 1950, Michael Corleone, agora à frente da família, tenta expandir o negócio do crime a Las Vegas, Los Angeles e Cuba. Paralelamente, é revelada a história de Vito Corleone, e de como saiu da Sicília e chegou a Nova Iorque.\n",
            "\n",
            "nome : 12 Homens e uma Sentença\n",
            "ano : 1957\n",
            "sinopse : Um jurado que se aposenta tenta evitar um erro judicial forçando seus colegas a reconsiderarem as evidências.\n",
            "\n",
            "nome : A Lista de Schindler \n",
            "ano : 1993\n",
            "sinopse : Depois de testemunhar a perseguição dos judaicos na Polônia ocupada pelos alemães durante a Segunda Guerra Mundial, o industrial Oskar Schindler se começa a preocupar com sua força de trabalho judaica.\n",
            "\n",
            "nome : O Senhor dos Anéis: O Retorno do Rei\n",
            "ano : 2003\n",
            "sinopse : Gandalf e Aragorn lideram o Mundo dos Homens contra o exército de Sauron para desviar o olhar de Frodo e Sam quando eles se aproximam á Montanha da Perdição com o Um Anel.\n",
            "\n",
            "nome : Pulp Fiction: Tempo de Violência\n",
            "ano : 1994\n",
            "sinopse : As vidas de dois assassinos da máfia, um boxeador, um gângster e sua esposa, e um par de bandidos se entrelaçam em quatro histórias de violência e redenção.\n",
            "\n",
            "nome : O Senhor dos Anéis: A Sociedade do Anel\n",
            "ano : 2001\n",
            "sinopse : Um manso hobbit do Condado e oito companheiros partem em uma jornada para destruir o poderoso Um Anel e salvar a Terra-média das Trevas.\n",
            "\n",
            "nome :  Três Homens em Conflito\n",
            "ano : 1966\n",
            "sinopse : Um impostor se junta com dois homens para encontrar fortuna num remoto cemitério.\n",
            "\n"
          ]
        }
      ],
      "source": [
        "for i in Lista_Filmes:\n",
        "    for k,v in i.items():\n",
        "        print(f'{k} : {v}')\n",
        "    print()"
      ]
    }
  ],
  "metadata": {
    "kernelspec": {
      "display_name": "Python 3",
      "language": "python",
      "name": "python3"
    },
    "language_info": {
      "codemirror_mode": {
        "name": "ipython",
        "version": 3
      },
      "file_extension": ".py",
      "mimetype": "text/x-python",
      "name": "python",
      "nbconvert_exporter": "python",
      "pygments_lexer": "ipython3",
      "version": "3.8.10"
    },
    "colab": {
      "provenance": [],
      "collapsed_sections": []
    }
  },
  "nbformat": 4,
  "nbformat_minor": 5
}