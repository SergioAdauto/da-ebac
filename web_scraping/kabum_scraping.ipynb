{
 "cells": [
  {
   "cell_type": "code",
   "execution_count": 1,
   "id": "a3541b9f",
   "metadata": {},
   "outputs": [],
   "source": [
    "import math\n",
    "\n",
    "import pandas as pd\n",
    "import re\n",
    "import requests\n",
    "import csv\n",
    "\n",
    "from time import sleep\n",
    "\n",
    "from requests.exceptions import HTTPError\n",
    "from bs4 import BeautifulSoup"
   ]
  },
  {
   "cell_type": "code",
   "execution_count": 2,
   "id": "f07e69b2",
   "metadata": {},
   "outputs": [],
   "source": [
    "#Função para requisição da página:\n",
    "def request_page(URL):\n",
    "    # Agentes de usuários de acesso:\n",
    "    my_user_agents = {'User-Agent':'Mozilla/5.0 (Windows NT 10.0; Win64; x64) AppleWebKit/537.36 (KHTML, like Gecko) Chrome/105.0.0.0 Safari/537.36'}\n",
    "    try:\n",
    "      site = requests.get(URL, headers=my_user_agents)\n",
    "      site.raise_for_status()\n",
    "    except HTTPError as erro:\n",
    "      print(erro)#caso apresente algum erro\n",
    "    else:\n",
    "      return site.text\n",
    "    sleep(30)\n",
    "    \n",
    "    "
   ]
  },
  {
   "cell_type": "code",
   "execution_count": 3,
   "id": "393b2f88",
   "metadata": {},
   "outputs": [
    {
     "name": "stdout",
     "output_type": "stream",
     "text": [
      "Produto para buscar: gabinete\n"
     ]
    }
   ],
   "source": [
    "# Dicionário para armazenar as informações do site:\n",
    "dados = {'produto':[], 'preco':[], 'open_box':[], 'prime_ninja':[]}\n",
    "\n",
    "#Produto para busca na web site:\n",
    "produto = input('Produto para buscar: ')\n",
    "if produto == '':\n",
    "    produto = 'mouse'\n",
    "produto = produto.replace(' ','-')\n",
    "\n",
    "#Número da página:\n",
    "numero_pagina = 1"
   ]
  },
  {
   "cell_type": "code",
   "execution_count": 4,
   "id": "ead85c71",
   "metadata": {},
   "outputs": [],
   "source": [
    "#URL de busca:\n",
    "URL=f'https://www.kabum.com.br/busca/{produto}?page_number={numero_pagina}&page_size=20&facet_filters=&sort=most_searched'\n",
    "\n"
   ]
  },
  {
   "cell_type": "code",
   "execution_count": 5,
   "id": "56743608",
   "metadata": {},
   "outputs": [],
   "source": [
    "# Usuário de agente web:\n",
    "site = request_page(URL)\n",
    "\n",
    "# Leitura da página:\n",
    "pagina = BeautifulSoup(site, 'html.parser')\n"
   ]
  },
  {
   "cell_type": "code",
   "execution_count": 6,
   "id": "facb2ae0",
   "metadata": {},
   "outputs": [
    {
     "name": "stdout",
     "output_type": "stream",
     "text": [
      "Número de páginas: 114\n"
     ]
    }
   ],
   "source": [
    "# Pegando a quantidades de produtos disponível na consulta:\n",
    "quantidade_de_produtos = pagina.find('div', attrs={'id':'listingCount'})\n",
    "quantidade_de_produtos = quantidade_de_produtos.get_text().strip()\n",
    "quantidade_de_produtos = re.findall(r'\\b\\d+\\b',quantidade_de_produtos)[0]\n",
    "\n",
    "# Pegando a quantidade de páginas para consulta:\n",
    "numero_pagina = math.ceil(int(quantidade_de_produtos)/20)\n",
    "print(f'Número de páginas: {numero_pagina}')"
   ]
  },
  {
   "cell_type": "code",
   "execution_count": 7,
   "id": "3bb788bf",
   "metadata": {
    "scrolled": true
   },
   "outputs": [
    {
     "name": "stdout",
     "output_type": "stream",
     "text": [
      "Página: 1\n",
      "Página: 2\n",
      "Página: 3\n",
      "Página: 4\n",
      "Página: 5\n",
      "Página: 6\n",
      "Página: 7\n",
      "Página: 8\n",
      "Página: 9\n",
      "Página: 10\n",
      "Página: 11\n",
      "Página: 12\n",
      "Página: 13\n",
      "Página: 14\n",
      "Página: 15\n",
      "Página: 16\n",
      "Página: 17\n",
      "Página: 18\n",
      "Página: 19\n",
      "Página: 20\n",
      "Página: 21\n",
      "Página: 22\n",
      "Página: 23\n",
      "Página: 24\n",
      "Página: 25\n",
      "Página: 26\n",
      "Página: 27\n",
      "Página: 28\n",
      "Página: 29\n",
      "Página: 30\n",
      "Página: 31\n",
      "Página: 32\n",
      "Página: 33\n",
      "Página: 34\n",
      "Página: 35\n",
      "Página: 36\n",
      "Página: 37\n",
      "Página: 38\n",
      "Página: 39\n",
      "Página: 40\n",
      "Página: 41\n",
      "Página: 42\n",
      "Página: 43\n",
      "Página: 44\n",
      "Página: 45\n",
      "Página: 46\n",
      "Página: 47\n",
      "Página: 48\n",
      "Página: 49\n",
      "Página: 50\n",
      "Página: 51\n",
      "Página: 52\n",
      "Página: 53\n",
      "Página: 54\n",
      "Página: 55\n",
      "Página: 56\n",
      "Página: 57\n",
      "Página: 58\n",
      "Página: 59\n",
      "Página: 60\n",
      "Página: 61\n",
      "Página: 62\n",
      "Página: 63\n",
      "Página: 64\n",
      "Página: 65\n",
      "Página: 66\n",
      "Página: 67\n",
      "Página: 68\n",
      "Página: 69\n",
      "Página: 70\n",
      "Página: 71\n",
      "Página: 72\n",
      "Página: 73\n",
      "Página: 74\n",
      "Página: 75\n",
      "Página: 76\n",
      "Página: 77\n",
      "Página: 78\n",
      "Página: 79\n",
      "Página: 80\n",
      "Página: 81\n",
      "Página: 82\n",
      "Página: 83\n",
      "Página: 84\n",
      "Página: 85\n",
      "Página: 86\n",
      "Página: 87\n",
      "Página: 88\n",
      "Página: 89\n",
      "Página: 90\n",
      "Página: 91\n",
      "Página: 92\n",
      "Página: 93\n",
      "Página: 94\n",
      "Página: 95\n",
      "Página: 96\n",
      "Página: 97\n",
      "Página: 98\n",
      "Página: 99\n",
      "Página: 100\n",
      "Página: 101\n",
      "Página: 102\n",
      "Página: 103\n",
      "Página: 104\n",
      "Página: 105\n",
      "Página: 106\n",
      "Página: 107\n",
      "Página: 108\n",
      "Página: 109\n",
      "Página: 110\n",
      "Página: 111\n",
      "Página: 112\n",
      "Página: 113\n",
      "Página: 114\n"
     ]
    }
   ],
   "source": [
    "for num in range(1, numero_pagina+1):\n",
    "    print(f'Página: {num}')\n",
    "    url = f'https://www.kabum.com.br/busca/{produto}?page_number={num}&page_size=20&facet_filters=&sort=most_searched'\n",
    "    paginas = request_page(url)\n",
    "    site_kabum = BeautifulSoup(paginas, 'html.parser')\n",
    "    #Loop para coletar as informações de cada página:\n",
    "    for produtos in site_kabum.find_all('div', attrs={'class':'productCard'}):\n",
    "        sleep(0.5)\n",
    "        #Descrição do produto (nome, marca, cor, tamanho)\n",
    "        descrição = produtos.find('span', attrs={'class':re.compile('nameCard')}).get_text().strip()\n",
    "        dados['produto'].append(descrição)\n",
    "        \n",
    "        #preço\n",
    "        preco = produtos.find('span', attrs={'class':'priceCard'}).get_text().strip()\n",
    "        preco = re.sub(\"\\$|\\.|\\-\", \"\", str(preco))\n",
    "        preco = preco.replace('R','').replace(',','.').strip()\n",
    "        dados['preco'].append(preco)\n",
    "        \n",
    "        #se o produto é do tipo open box, ou seja, se já foi aberto da embalagem\n",
    "        #e recondicionado pela Kabum\n",
    "        open_box = produtos.find('div', attrs={'class':'openboxTagCard'})\n",
    "        if open_box == None:\n",
    "            open_box = 0\n",
    "        else:\n",
    "            open_box = 1\n",
    "        dados['open_box'].append(open_box) \n",
    "        \n",
    "        \n",
    "        #Se o produto apresenta os desconto e vantagem da Prime Ninja,\n",
    "        #ou seja, plano de assinatura da kabum:        \n",
    "        ninja = produtos.find('div', attrs={'class':'primeLogoTagCard'})\n",
    "        if ninja == None:\n",
    "            ninja = 0\n",
    "        else:\n",
    "            ninja = 1\n",
    "        dados['prime_ninja'].append(ninja)\n",
    "            \n",
    "    \n",
    "    "
   ]
  },
  {
   "cell_type": "code",
   "execution_count": 8,
   "id": "a26fbeb9",
   "metadata": {},
   "outputs": [
    {
     "name": "stdout",
     "output_type": "stream",
     "text": [
      "'latin-1' codec can't encode character '\\u2013' in position 15: ordinal not in range(256)\n"
     ]
    }
   ],
   "source": [
    "try:\n",
    "    df = pd.DataFrame(dados)\n",
    "    df.to_csv(path_or_buf=f'{produto}.csv',sep=';',index=False, encoding='latin-1')\n",
    "except Exception  as erro:\n",
    "    print(erro)\n",
    "else:\n",
    "    print('Arquivo carregado em um CSV')\n"
   ]
  }
 ],
 "metadata": {
  "kernelspec": {
   "display_name": "Python 3.10.4 64-bit",
   "language": "python",
   "name": "python3"
  },
  "language_info": {
   "codemirror_mode": {
    "name": "ipython",
    "version": 3
   },
   "file_extension": ".py",
   "mimetype": "text/x-python",
   "name": "python",
   "nbconvert_exporter": "python",
   "pygments_lexer": "ipython3",
   "version": "3.10.4"
  },
  "vscode": {
   "interpreter": {
    "hash": "0a855e0798565613629ea6aeaedacd216294da74377df975d61f1b4e8b3b3cf0"
   }
  }
 },
 "nbformat": 4,
 "nbformat_minor": 5
}
